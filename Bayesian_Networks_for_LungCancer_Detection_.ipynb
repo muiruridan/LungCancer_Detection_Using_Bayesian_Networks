{
  "nbformat": 4,
  "nbformat_minor": 0,
  "metadata": {
    "colab": {
      "provenance": [],
      "include_colab_link": true
    },
    "kernelspec": {
      "name": "python3",
      "display_name": "Python 3"
    },
    "language_info": {
      "name": "python"
    }
  },
  "cells": [
    {
      "cell_type": "markdown",
      "metadata": {
        "id": "view-in-github",
        "colab_type": "text"
      },
      "source": [
        "<a href=\"https://colab.research.google.com/github/muiruridan/LungCancer_Detection_Using_Bayesian_Networks/blob/main/Bayesian_Networks_for_LungCancer_Detection_.ipynb\" target=\"_parent\"><img src=\"https://colab.research.google.com/assets/colab-badge.svg\" alt=\"Open In Colab\"/></a>"
      ]
    },
    {
      "cell_type": "code",
      "execution_count": null,
      "metadata": {
        "id": "qAwkSgETP1ZZ",
        "colab": {
          "base_uri": "https://localhost:8080/"
        },
        "outputId": "c95c94bc-5e62-4f4f-aa79-32b734b4bae8"
      },
      "outputs": [
        {
          "output_type": "stream",
          "name": "stdout",
          "text": [
            "Collecting pgmpy\n",
            "  Downloading pgmpy-0.1.23-py3-none-any.whl (1.9 MB)\n",
            "\u001b[2K     \u001b[90m━━━━━━━━━━━━━━━━━━━━━━━━━━━━━━━━━━━━━━━━\u001b[0m \u001b[32m1.9/1.9 MB\u001b[0m \u001b[31m8.3 MB/s\u001b[0m eta \u001b[36m0:00:00\u001b[0m\n",
            "\u001b[?25hRequirement already satisfied: networkx in /usr/local/lib/python3.10/dist-packages (from pgmpy) (3.1)\n",
            "Requirement already satisfied: numpy in /usr/local/lib/python3.10/dist-packages (from pgmpy) (1.23.5)\n",
            "Requirement already satisfied: scipy in /usr/local/lib/python3.10/dist-packages (from pgmpy) (1.10.1)\n",
            "Requirement already satisfied: scikit-learn in /usr/local/lib/python3.10/dist-packages (from pgmpy) (1.2.2)\n",
            "Requirement already satisfied: pandas in /usr/local/lib/python3.10/dist-packages (from pgmpy) (1.5.3)\n",
            "Requirement already satisfied: pyparsing in /usr/local/lib/python3.10/dist-packages (from pgmpy) (3.1.1)\n",
            "Requirement already satisfied: torch in /usr/local/lib/python3.10/dist-packages (from pgmpy) (2.0.1+cu118)\n",
            "Requirement already satisfied: statsmodels in /usr/local/lib/python3.10/dist-packages (from pgmpy) (0.14.0)\n",
            "Requirement already satisfied: tqdm in /usr/local/lib/python3.10/dist-packages (from pgmpy) (4.66.1)\n",
            "Requirement already satisfied: joblib in /usr/local/lib/python3.10/dist-packages (from pgmpy) (1.3.2)\n",
            "Requirement already satisfied: opt-einsum in /usr/local/lib/python3.10/dist-packages (from pgmpy) (3.3.0)\n",
            "Requirement already satisfied: python-dateutil>=2.8.1 in /usr/local/lib/python3.10/dist-packages (from pandas->pgmpy) (2.8.2)\n",
            "Requirement already satisfied: pytz>=2020.1 in /usr/local/lib/python3.10/dist-packages (from pandas->pgmpy) (2023.3)\n",
            "Requirement already satisfied: threadpoolctl>=2.0.0 in /usr/local/lib/python3.10/dist-packages (from scikit-learn->pgmpy) (3.2.0)\n",
            "Requirement already satisfied: patsy>=0.5.2 in /usr/local/lib/python3.10/dist-packages (from statsmodels->pgmpy) (0.5.3)\n",
            "Requirement already satisfied: packaging>=21.3 in /usr/local/lib/python3.10/dist-packages (from statsmodels->pgmpy) (23.1)\n",
            "Requirement already satisfied: filelock in /usr/local/lib/python3.10/dist-packages (from torch->pgmpy) (3.12.2)\n",
            "Requirement already satisfied: typing-extensions in /usr/local/lib/python3.10/dist-packages (from torch->pgmpy) (4.7.1)\n",
            "Requirement already satisfied: sympy in /usr/local/lib/python3.10/dist-packages (from torch->pgmpy) (1.12)\n",
            "Requirement already satisfied: jinja2 in /usr/local/lib/python3.10/dist-packages (from torch->pgmpy) (3.1.2)\n",
            "Requirement already satisfied: triton==2.0.0 in /usr/local/lib/python3.10/dist-packages (from torch->pgmpy) (2.0.0)\n",
            "Requirement already satisfied: cmake in /usr/local/lib/python3.10/dist-packages (from triton==2.0.0->torch->pgmpy) (3.27.2)\n",
            "Requirement already satisfied: lit in /usr/local/lib/python3.10/dist-packages (from triton==2.0.0->torch->pgmpy) (16.0.6)\n",
            "Requirement already satisfied: six in /usr/local/lib/python3.10/dist-packages (from patsy>=0.5.2->statsmodels->pgmpy) (1.16.0)\n",
            "Requirement already satisfied: MarkupSafe>=2.0 in /usr/local/lib/python3.10/dist-packages (from jinja2->torch->pgmpy) (2.1.3)\n",
            "Requirement already satisfied: mpmath>=0.19 in /usr/local/lib/python3.10/dist-packages (from sympy->torch->pgmpy) (1.3.0)\n",
            "Installing collected packages: pgmpy\n",
            "Successfully installed pgmpy-0.1.23\n",
            "Model is valid.\n",
            "+---------------+-------------------+\n",
            "| LungCancer    |   phi(LungCancer) |\n",
            "+===============+===================+\n",
            "| LungCancer(0) |            0.0023 |\n",
            "+---------------+-------------------+\n",
            "| LungCancer(1) |            0.9977 |\n",
            "+---------------+-------------------+\n",
            "+-----------------+---------------------+\n",
            "| Tuberculosis    |   phi(Tuberculosis) |\n",
            "+=================+=====================+\n",
            "| Tuberculosis(0) |              0.0770 |\n",
            "+-----------------+---------------------+\n",
            "| Tuberculosis(1) |              0.9230 |\n",
            "+-----------------+---------------------+\n"
          ]
        }
      ],
      "source": [
        "!pip install pgmpy\n",
        "\n",
        "from pgmpy.models import BayesianNetwork\n",
        "from pgmpy.factors.discrete import TabularCPD\n",
        "from pgmpy.inference import VariableElimination\n",
        "\n",
        "# Define the Bayesian Network\n",
        "model = BayesianNetwork([('LungCancer', 'PositiveXray'),\n",
        "                         ('Tuberculosis', 'PositiveTuberculosis'),\n",
        "                         ('LungCancer', 'VisitToDoctor'),\n",
        "                         ('Tuberculosis', 'VisitToDoctor')])\n",
        "\n",
        "# Define conditional probability distributions (CPDs)\n",
        "cpd_lung_cancer = TabularCPD(variable='LungCancer', variable_card=2, values=[[0.1], [0.9]])\n",
        "cpd_tuberculosis = TabularCPD(variable='Tuberculosis', variable_card=2, values=[[0.2], [0.8]])\n",
        "cpd_positive_xray = TabularCPD(variable='PositiveXray', variable_card=2,\n",
        "                               values=[[0.98, 0.05], [0.02, 0.95]],\n",
        "                               evidence=['LungCancer'], evidence_card=[2])\n",
        "cpd_positive_tb = TabularCPD(variable='PositiveTuberculosis', variable_card=2,\n",
        "                             values=[[0.99, 0.02], [0.01, 0.98]],\n",
        "                             evidence=['Tuberculosis'], evidence_card=[2])\n",
        "cpd_visit_doctor = TabularCPD(variable='VisitToDoctor', variable_card=2,\n",
        "                              values=[[0.6, 0.3, 0.7, 0.1],\n",
        "                                      [0.4, 0.7, 0.3, 0.9]],\n",
        "                              evidence=['LungCancer', 'Tuberculosis'], evidence_card=[2, 2])\n",
        "\n",
        "# Add CPDs to the model\n",
        "model.add_cpds(cpd_lung_cancer, cpd_tuberculosis, cpd_positive_xray, cpd_positive_tb, cpd_visit_doctor)\n",
        "\n",
        "# Check model for validity of CPDs\n",
        "if model.check_model():\n",
        "    print(\"Model is valid.\")\n",
        "\n",
        "# Perform variable elimination\n",
        "inference = VariableElimination(model)\n",
        "\n",
        "# Query: P(LungCancer=1 | PositiveXray=1, PositiveTuberculosis=0)\n",
        "result = inference.query(variables=['LungCancer'], evidence={'PositiveXray': 1, 'PositiveTuberculosis': 0})\n",
        "print(result)\n",
        "\n",
        "# Query: P(Tuberculosis=1 | PositiveXray=1, VisitToDoctor=1)\n",
        "result = inference.query(variables=['Tuberculosis'], evidence={'PositiveXray': 1, 'VisitToDoctor': 1})\n",
        "print(result)\n"
      ]
    },
    {
      "cell_type": "code",
      "source": [],
      "metadata": {
        "id": "o9xy23ykR0qp"
      },
      "execution_count": null,
      "outputs": []
    }
  ]
}